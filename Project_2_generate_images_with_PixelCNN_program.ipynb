{
  "cells": [
    {
      "cell_type": "code",
      "execution_count": null,
      "metadata": {
        "colab": {
          "background_save": true,
          "base_uri": "https://localhost:8080/"
        },
        "id": "4v3NKBWCiGVe",
        "outputId": "974a98ed-2609-4081-8549-4110234c57bb"
      },
      "outputs": [
        {
          "name": "stdout",
          "output_type": "stream",
          "text": [
            "Downloading data from https://storage.googleapis.com/tensorflow/tf-keras-datasets/train-labels-idx1-ubyte.gz\n",
            "\u001b[1m29515/29515\u001b[0m \u001b[32m━━━━━━━━━━━━━━━━━━━━\u001b[0m\u001b[37m\u001b[0m \u001b[1m0s\u001b[0m 0us/step\n",
            "Downloading data from https://storage.googleapis.com/tensorflow/tf-keras-datasets/train-images-idx3-ubyte.gz\n",
            "\u001b[1m26421880/26421880\u001b[0m \u001b[32m━━━━━━━━━━━━━━━━━━━━\u001b[0m\u001b[37m\u001b[0m \u001b[1m2s\u001b[0m 0us/step\n",
            "Downloading data from https://storage.googleapis.com/tensorflow/tf-keras-datasets/t10k-labels-idx1-ubyte.gz\n",
            "\u001b[1m5148/5148\u001b[0m \u001b[32m━━━━━━━━━━━━━━━━━━━━\u001b[0m\u001b[37m\u001b[0m \u001b[1m0s\u001b[0m 1us/step\n",
            "Downloading data from https://storage.googleapis.com/tensorflow/tf-keras-datasets/t10k-images-idx3-ubyte.gz\n",
            "\u001b[1m4422102/4422102\u001b[0m \u001b[32m━━━━━━━━━━━━━━━━━━━━\u001b[0m\u001b[37m\u001b[0m \u001b[1m1s\u001b[0m 0us/step\n",
            "Epoch 1/2\n"
          ]
        },
        {
          "name": "stderr",
          "output_type": "stream",
          "text": [
            "/usr/local/lib/python3.11/dist-packages/keras/src/backend/tensorflow/trainer.py:82: UserWarning: The model does not have any trainable weights.\n",
            "  warnings.warn(\"The model does not have any trainable weights.\")\n"
          ]
        },
        {
          "name": "stdout",
          "output_type": "stream",
          "text": [
            "\u001b[1m32/32\u001b[0m \u001b[32m━━━━━━━━━━━━━━━━━━━━\u001b[0m\u001b[37m\u001b[0m \u001b[1m24s\u001b[0m 641ms/step - loss: 2987.4148\n",
            "Epoch 2/2\n",
            "\u001b[1m32/32\u001b[0m \u001b[32m━━━━━━━━━━━━━━━━━━━━\u001b[0m\u001b[37m\u001b[0m \u001b[1m40s\u001b[0m 647ms/step - loss: 2986.5481\n"
          ]
        },
        {
          "data": {
            "image/png": "[encoded data removed]",
            "text/plain": [
              "<Figure size 1000x200 with 5 Axes>"
            ]
          },
          "metadata": {},
          "output_type": "display_data"
        }
      ],
      "source": [
        "import numpy as np\n",
        "import tensorflow as tf\n",
        "from tensorflow.keras import layers, models, optimizers\n",
        "import tensorflow_probability as tfp\n",
        "\n",
        "# Defining the TensorFlow Probability Distributions\n",
        "tfd = tfp.distributions\n",
        "\n",
        "# Loading and Preprocessing the Data (I am using only 1000 samples to increase)\n",
        "(x_train, _), (_, _) = tf.keras.datasets.fashion_mnist.load_data()\n",
        "x_train = x_train[:1000]\n",
        "x_train = np.expand_dims(x_train, axis=-1).astype(np.int32)\n",
        "\n",
        "# Defining PixelCNN Distribution\n",
        "dist = tfd.PixelCNN(\n",
        "    image_shape=(28, 28, 1),\n",
        "    num_resnet=2,\n",
        "    num_hierarchies=1,\n",
        "    num_filters=32,\n",
        "    num_logistic_mix=3,\n",
        ")\n",
        "\n",
        "# The Input Layer\n",
        "image_input = layers.Input(shape=(28, 28, 1), dtype=tf.int32)\n",
        "\n",
        "# Computing Log Probability\n",
        "log_prob_layer = layers.Lambda(lambda x: dist.log_prob(tf.cast(x, tf.float32)))(image_input)\n",
        "\n",
        "# Defining the Model\n",
        "pixelcnn = models.Model(inputs=image_input, outputs=log_prob_layer)\n",
        "\n",
        "# Compiling the Model\n",
        "pixelcnn.compile(optimizer=optimizers.Adam(learning_rate=0.001), loss=lambda y_true, y_pred: -tf.reduce_mean(y_pred))\n",
        "\n",
        "# Training Model\n",
        "pixelcnn.fit(x_train, np.zeros((x_train.shape[0], 1)), batch_size=32, epochs=2, verbose=1)\n",
        "\n",
        "# Generating Few Images\n",
        "generated_images = dist.sample(5).numpy()\n",
        "\n",
        "# Displaying the output\n",
        "import matplotlib.pyplot as plt\n",
        "fig, axes = plt.subplots(1, 5, figsize=(10, 2))\n",
        "for i, ax in enumerate(axes):\n",
        "    ax.imshow(generated_images[i].squeeze(), cmap='gray')\n",
        "    ax.axis('off')\n",
        "plt.show()\n"
      ]
    },
    {
      "cell_type": "markdown",
      "source": [
        "This result from training would show that the PixelCNN model was set up and ran just fine, but with one important warning: \"The model does not have any trainable weights.\" What this really means is that here, the TensorFlow Probability PixelCNN distribution has been used as a fixed probabilistic model, not as a learnable neural network. This is probably because, even though the model computed log probabilities and pretended to train, the model itself isn't updating any of its parameters; hence, there is minimal change in the loss values across epochs. Therefore, the approach should be changed to incorporate at least a convolutional layer to learn meaningful dependencies in the images before computing a probability distribution over them."
      ],
      "metadata": {
        "id": "3lyEPLOdrMEG"
      }
    }
  ],
  "metadata": {
    "colab": {
      "provenance": []
    },
    "kernelspec": {
      "display_name": "Python 3",
      "name": "python3"
    },
    "language_info": {
      "name": "python"
    }
  },
  "nbformat": 4,
  "nbformat_minor": 0
}